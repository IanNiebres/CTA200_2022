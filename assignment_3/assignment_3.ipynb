{
 "cells": [
  {
   "cell_type": "markdown",
   "id": "77966833",
   "metadata": {},
   "source": [
    "# CTA200H Assignment 3 Question 1 - Ian Niebres"
   ]
  },
  {
   "cell_type": "markdown",
   "id": "2bfa7dec",
   "metadata": {},
   "source": [
    "## Question 1"
   ]
  },
  {
   "cell_type": "markdown",
   "id": "96f27ef9",
   "metadata": {},
   "source": [
    "### Imports"
   ]
  },
  {
   "cell_type": "code",
   "execution_count": null,
   "id": "f60ef529",
   "metadata": {},
   "outputs": [],
   "source": [
    "import numpy as np\n",
    "from iteration import iterate\n",
    "import matplotlib.pyplot as plt"
   ]
  },
  {
   "cell_type": "markdown",
   "id": "aa830b0d",
   "metadata": {},
   "source": [
    "### Getting values for the plots"
   ]
  },
  {
   "cell_type": "code",
   "execution_count": null,
   "id": "7c7e6439",
   "metadata": {},
   "outputs": [],
   "source": [
    "%%time\n",
    "N = 50\n",
    "z0 = 0 \n",
    "\n",
    "# initialize x, y values\n",
    "x_vals = np.arange(-2, 2, 0.01)\n",
    "y_vals = np.arange(-2, 2, 0.01)\n",
    "\n",
    "# meshgrid\n",
    "xx, yy = np.meshgrid(x_vals, y_vals)\n",
    "\n",
    "zz = np.zeros((len(xx), len(yy))) # for first plot\n",
    "zz2 = zz.copy() # for second plot\n",
    "\n",
    "# loop through each x, y and do N iterations.\n",
    "# update the z values as well.\n",
    "for i in range(len(x_vals)):\n",
    "    for j in range(len(y_vals)):\n",
    "        zz[i, j] = iterate(z0, N, x_vals[i], y_vals[j])[1][-1] # last item in abs value array\n",
    "        zz2[i, j] = iterate(z0, N, x_vals[i], y_vals[j])[2] # iteration number where it diverges\n",
    "\n",
    "zz1 = np.nan_to_num(zz, copy = True, nan = 100) # get rid of nans\n",
    "\n",
    "\n",
    "thresh = 4 # threshold value\n",
    "zz1[zz1 <= thresh] = 0 # set stable values to 0\n",
    "zz1[zz1 > thresh] = 1 # set unstable to 1"
   ]
  },
  {
   "cell_type": "markdown",
   "id": "100043b4",
   "metadata": {},
   "source": [
    "### First plot"
   ]
  },
  {
   "cell_type": "code",
   "execution_count": null,
   "id": "8e33adb9",
   "metadata": {},
   "outputs": [],
   "source": [
    "plt.figure(figsize = (4, 4), dpi = 150)\n",
    "plt.imshow(zz1.transpose(), cmap=plt.cm.gray, origin = 'lower') # plot it\n",
    "plt.xticks(np.arange(0, 500, 100), [-2, -1, 0,  1, 2])\n",
    "plt.yticks(np.arange(0, 500, 100), ['-2i', '-i', 0,  'i', '2i'])\n",
    "plt.xlabel('Real axis')\n",
    "plt.ylabel('Imaginary axis')\n",
    "\n",
    "#plt.savefig('a3q1_1.pdf', dpi = 300)"
   ]
  },
  {
   "cell_type": "markdown",
   "id": "5352105d",
   "metadata": {},
   "source": [
    "### Second plot"
   ]
  },
  {
   "cell_type": "code",
   "execution_count": null,
   "id": "1945c5b7",
   "metadata": {},
   "outputs": [],
   "source": [
    "plt.figure(figsize = (4, 4), dpi = 150)\n",
    "plt.imshow(zz2.transpose(), origin = 'lower') # second plot\n",
    "plt.xticks(np.arange(0, 500, 100), [-2, -1, 0,  1, 2])\n",
    "plt.yticks(np.arange(0, 500, 100), ['-2i', '-i', 0,  'i', '2i'])\n",
    "plt.xlabel('Real axis')\n",
    "plt.ylabel('Imaginary axis')\n",
    "cbar = plt.colorbar()\n",
    "cbar.ax.set_ylabel('Iteration at divergence')\n",
    "\n",
    "#plt.savefig('a3q1_2.pdf', dpi = 300)"
   ]
  },
  {
   "cell_type": "markdown",
   "id": "d167e5e8",
   "metadata": {},
   "source": [
    "## Question 2"
   ]
  },
  {
   "cell_type": "markdown",
   "id": "c257addd",
   "metadata": {},
   "source": [
    "### Imports"
   ]
  },
  {
   "cell_type": "code",
   "execution_count": null,
   "id": "fd34e544",
   "metadata": {},
   "outputs": [],
   "source": [
    "from scipy.integrate import solve_ivp\n",
    "import numpy as np\n",
    "import matplotlib.pyplot as plt"
   ]
  },
  {
   "cell_type": "markdown",
   "id": "3ea73c6b",
   "metadata": {},
   "source": [
    "### Task 1 - Code up the equations"
   ]
  },
  {
   "cell_type": "code",
   "execution_count": null,
   "id": "139a649b",
   "metadata": {},
   "outputs": [],
   "source": [
    "# Constants\n",
    "\n",
    "sigma = 10.\n",
    "r = 28\n",
    "b = 8./3.\n",
    "\n",
    "dt = 0.01\n",
    "\n",
    "t_span = [0, 61]\n",
    "t_eval = np.arange(0, 61, dt)\n",
    "\n",
    "atol = [3e-12, 3e-12, 3e-12]\n",
    "rtol = 3e-12\n",
    "\n",
    "y0 = [0., 1., 0.]"
   ]
  },
  {
   "cell_type": "code",
   "execution_count": null,
   "id": "e624babe",
   "metadata": {},
   "outputs": [],
   "source": [
    "# Functions\n",
    "\n",
    "def lorenz(t, y, sigma, r, b):\n",
    "    \"\"\"Function of RHS of X_dot, Y_dot, Z_dot to use for scipy.integrate.solve_ivp\"\"\"\n",
    "    X, Y, Z = y\n",
    "    \n",
    "    return [-sigma*(X-Y), r*X - Y - X*Z, -b*Z + X*Y]"
   ]
  },
  {
   "cell_type": "markdown",
   "id": "89b05d4c",
   "metadata": {},
   "source": [
    "### Task 2 - Solving the ODEs"
   ]
  },
  {
   "cell_type": "code",
   "execution_count": null,
   "id": "8db9decc",
   "metadata": {},
   "outputs": [],
   "source": [
    "# Function to solve ODE\n",
    "\n",
    "def solve_lorenz(y0):\n",
    "    \"\"\"ODE solver given initial conditions y0 and the lorenz function.\"\"\"\n",
    "    return solve_ivp(fun = lambda t, y: lorenz(t, y, sigma, r, b),\n",
    "         t_span = t_span,\n",
    "         y0 = y0,\n",
    "         t_eval = t_eval,\n",
    "         atol = atol,\n",
    "         rtol = rtol)\n",
    "\n",
    "# Solved X, Y, Z\n",
    "\n",
    "sol_x, sol_y, sol_z = solve_lorenz(y0).y"
   ]
  },
  {
   "cell_type": "markdown",
   "id": "071106a8",
   "metadata": {},
   "source": [
    "### Task 3 - Recreating Lorenz' Figure 1"
   ]
  },
  {
   "cell_type": "code",
   "execution_count": null,
   "id": "1f9c669f",
   "metadata": {},
   "outputs": [],
   "source": [
    "# Plotting\n",
    "\n",
    "plt.figure(1, figsize = (6.5, 4), dpi = 100)\n",
    "plt.suptitle('Y vs. t')\n",
    "\n",
    "plt.subplot(3, 1, 1, frameon = False)\n",
    "plt.plot((t_eval/dt)[:1000], sol_y[:1000], 'k')\n",
    "plt.xticks([0, 1000])\n",
    "plt.yticks([0])\n",
    "plt.hlines(y=0, xmin = 0, xmax = 1000, color = 'k')\n",
    "\n",
    "plt.subplot(3, 1, 2, frameon = False)\n",
    "plt.plot((t_eval/dt)[1000:2000], sol_y[1000:2000], 'k')\n",
    "plt.xticks([1000, 2000])\n",
    "plt.yticks([0])\n",
    "plt.hlines(y=0, xmin = 1000, xmax = 2000, color = 'k')\n",
    "plt.ylabel('Y')\n",
    "\n",
    "plt.subplot(3, 1, 3, frameon = False)\n",
    "plt.plot((t_eval/dt)[2000:3000], sol_y[2000:3000], 'k')\n",
    "plt.xticks([2000, 3000])\n",
    "plt.yticks([0])\n",
    "plt.hlines(y=0, xmin = 2000, xmax = 3000, color = 'k')\n",
    "plt.xlabel('Time ($N/\\Delta T$)')\n",
    "\n",
    "#plt.savefig('a3q2_y_vs_t.pdf', dpi = 300)"
   ]
  },
  {
   "cell_type": "markdown",
   "id": "22d9e583",
   "metadata": {},
   "source": [
    "### Task 4 - Recreating Lorenz' Figure 2"
   ]
  },
  {
   "cell_type": "code",
   "execution_count": null,
   "id": "b4820206",
   "metadata": {},
   "outputs": [],
   "source": [
    "# Just more plotting\n",
    "\n",
    "plt.figure(2, figsize = (4, 8), dpi=100)\n",
    "plt.tight_layout()\n",
    "plt.suptitle('Y-Z and Y-X phase space')\n",
    "\n",
    "plt.subplot(2, 1, 1, frameon = False)\n",
    "plt.plot(sol_y[1400:1900], sol_z[1400:1900])\n",
    "for i in range(1400, 2000, 100):\n",
    "    plt.plot(sol_y[i], sol_z[i], 'ko')\n",
    "    plt.text(sol_y[i] + 1, sol_z[i] - 1, '{:.0f}'.format(i/100))\n",
    "plt.text(sol_y.max()-8, 3, 'Y')\n",
    "plt.text(1, sol_z.max()+16, 'Z')\n",
    "plt.xticks([])\n",
    "plt.yticks([])\n",
    "plt.arrow(sol_y.min(), 0, sol_y.max()+16, 0, width = 0.1, head_width = 1, ec = 'k', fc = 'k')\n",
    "plt.arrow(0, sol_z.min(), 0, sol_z.max()+16, width = 0.1, head_width = 1, ec = 'k', fc = 'k')\n",
    "\n",
    "plt.subplot(2, 1, 2, frameon = False)\n",
    "plt.plot(sol_y[1400:1900], sol_x[1400:1900])\n",
    "for i in range(1400, 2000, 100):\n",
    "    plt.plot(sol_y[i], sol_x[i], 'ko')\n",
    "    plt.text(sol_y[i] + 1, sol_x[i] + 1, '{:.0f}'.format(i/100))\n",
    "plt.gca().invert_yaxis()\n",
    "plt.text(sol_y.max()-8, 3, 'Y')\n",
    "plt.text(1, sol_x.max()+1, 'X')\n",
    "plt.xticks([])\n",
    "plt.yticks([])\n",
    "plt.arrow(sol_y.min(), 0, sol_y.max()+16, 0, width = 0.1, head_width = 1, ec = 'k', fc = 'k')\n",
    "plt.arrow(0, sol_y.min(), 0, sol_y.max()+16, width = 0.1, head_width = 1, ec = 'k', fc = 'k')\n",
    "\n",
    "#plt.savefig('a3q2_phase.pdf', dpi = 300)"
   ]
  },
  {
   "cell_type": "markdown",
   "id": "6186ff20",
   "metadata": {},
   "source": [
    "### Task 5 - Perturbation of initial conditions"
   ]
  },
  {
   "cell_type": "code",
   "execution_count": null,
   "id": "b1cadd00",
   "metadata": {},
   "outputs": [],
   "source": [
    "y0_p = [sum(x) for x in zip(y0, [0., 1.e-8, 0.])]\n",
    "sol_x2, sol_y2, sol_z2 = solve_lorenz(y0_p).y\n",
    "distance = np.sqrt((sol_x - sol_x2)**2 + (sol_y - sol_y2)**2 + (sol_z - sol_z2)**2)"
   ]
  },
  {
   "cell_type": "code",
   "execution_count": null,
   "id": "d1d99e98",
   "metadata": {},
   "outputs": [],
   "source": [
    "plt.figure(figsize = (6.5, 4), dpi = 100)\n",
    "plt.title(\"Distance between W and W' vs log(time)\")\n",
    "plt.semilogy(t_eval, distance)\n",
    "plt.ylabel('Distance')\n",
    "plt.xlabel('log(time (s))')\n",
    "\n",
    "#plt.savefig('a3q2_dist_vs_t.pdf', dpi = 300)"
   ]
  }
 ],
 "metadata": {
  "kernelspec": {
   "display_name": "Python 3 (ipykernel)",
   "language": "python",
   "name": "python3"
  },
  "language_info": {
   "codemirror_mode": {
    "name": "ipython",
    "version": 3
   },
   "file_extension": ".py",
   "mimetype": "text/x-python",
   "name": "python",
   "nbconvert_exporter": "python",
   "pygments_lexer": "ipython3",
   "version": "3.8.12"
  }
 },
 "nbformat": 4,
 "nbformat_minor": 5
}
