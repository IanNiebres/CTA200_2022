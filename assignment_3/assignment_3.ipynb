{
 "cells": [
  {
   "cell_type": "markdown",
   "id": "77966833",
   "metadata": {},
   "source": [
    "# CTA200H Assignment 3 - Ian Niebres"
   ]
  },
  {
   "cell_type": "code",
   "execution_count": null,
   "id": "f60ef529",
   "metadata": {},
   "outputs": [],
   "source": [
    "import numpy as np\n",
    "from iteration import iterate\n",
    "import matplotlib.pyplot as plt"
   ]
  },
  {
   "cell_type": "code",
   "execution_count": null,
   "id": "87bddd49",
   "metadata": {},
   "outputs": [],
   "source": [
    "%%time\n",
    "N = 4\n",
    "z0 = 0 \n",
    "\n",
    "x_arr = np.arange(-2, 2, 1)\n",
    "y_arr = np.arange(-2, 2, 1)\n",
    "\n",
    "z_arr = []\n",
    "z_abs_arr = []\n",
    "\n",
    "for x in x_arr:\n",
    "    for y in y_arr:\n",
    "        z, z_abs = iterate(z0, N, x, y)\n",
    "        z_arr.append(z)\n",
    "        z_abs_arr.append(z_abs)"
   ]
  },
  {
   "cell_type": "code",
   "execution_count": null,
   "id": "f7c36c72",
   "metadata": {},
   "outputs": [],
   "source": [
    "np.all(z_arr[i], where=[z_arr[i].real**2 + z_arr[i].imag**2 == (z_arr[i]**2.real)**2 + (z_arr[i]**2).imag**2])"
   ]
  },
  {
   "cell_type": "code",
   "execution_count": null,
   "id": "1857b24e",
   "metadata": {},
   "outputs": [],
   "source": [
    "for i in range(len(z_arr)):\n",
    "    plt.plot(z_arr[i].real, z_arr[i].imag, 'r' if np.all(z_arr[i], z_arr[i].real**2 + z_arr[i].imag**2 == (z_arr[i]**2.real)**2 + (z_arr[i]**2).imag**2))"
   ]
  },
  {
   "cell_type": "code",
   "execution_count": null,
   "id": "b6ddb765",
   "metadata": {},
   "outputs": [],
   "source": [
    "z_arr[0]"
   ]
  },
  {
   "cell_type": "code",
   "execution_count": null,
   "id": "53d62654",
   "metadata": {},
   "outputs": [],
   "source": [
    "z = iterate(z0, 10, 1, 0)"
   ]
  },
  {
   "cell_type": "code",
   "execution_count": null,
   "id": "f9bca475",
   "metadata": {},
   "outputs": [],
   "source": [
    "z"
   ]
  },
  {
   "cell_type": "code",
   "execution_count": null,
   "id": "db247047",
   "metadata": {},
   "outputs": [],
   "source": [
    "plt.plot(z[0].real, z[0].imag)"
   ]
  },
  {
   "cell_type": "code",
   "execution_count": null,
   "id": "39a92cb2",
   "metadata": {},
   "outputs": [],
   "source": [
    "a = z[0][3]"
   ]
  },
  {
   "cell_type": "code",
   "execution_count": null,
   "id": "3b9d3f09",
   "metadata": {},
   "outputs": [],
   "source": [
    "a.real**2 + a.imag**2"
   ]
  },
  {
   "cell_type": "code",
   "execution_count": null,
   "id": "87c523a5",
   "metadata": {},
   "outputs": [],
   "source": [
    "b = a**2\n",
    "a.real**2 + a.imag**2"
   ]
  },
  {
   "cell_type": "code",
   "execution_count": null,
   "id": "2cd51d13",
   "metadata": {},
   "outputs": [],
   "source": [
    "plt.plot(z)"
   ]
  },
  {
   "cell_type": "code",
   "execution_count": null,
   "id": "9cc8eb6a",
   "metadata": {},
   "outputs": [],
   "source": []
  }
 ],
 "metadata": {
  "kernelspec": {
   "display_name": "Python 3 (ipykernel)",
   "language": "python",
   "name": "python3"
  },
  "language_info": {
   "codemirror_mode": {
    "name": "ipython",
    "version": 3
   },
   "file_extension": ".py",
   "mimetype": "text/x-python",
   "name": "python",
   "nbconvert_exporter": "python",
   "pygments_lexer": "ipython3",
   "version": "3.7.4"
  }
 },
 "nbformat": 4,
 "nbformat_minor": 5
}
