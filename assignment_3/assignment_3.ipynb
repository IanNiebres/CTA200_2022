{
 "cells": [
  {
   "cell_type": "markdown",
   "id": "77966833",
   "metadata": {},
   "source": [
    "# CTA200H Assignment 3 - Ian Niebres"
   ]
  },
  {
   "cell_type": "code",
   "execution_count": 1,
   "id": "f60ef529",
   "metadata": {},
   "outputs": [],
   "source": [
    "import numpy as np\n",
    "from iteration import iterate\n",
    "import matplotlib.pyplot as plt"
   ]
  },
  {
   "cell_type": "code",
   "execution_count": 5,
   "id": "87bddd49",
   "metadata": {},
   "outputs": [
    {
     "name": "stdout",
     "output_type": "stream",
     "text": [
      "CPU times: user 739 µs, sys: 79 µs, total: 818 µs\n",
      "Wall time: 792 µs\n"
     ]
    }
   ],
   "source": [
    "%%time\n",
    "N = 5\n",
    "z0 = 0 \n",
    "\n",
    "x_arr = np.arange(-2, 2, 1)\n",
    "y_arr = np.arange(-2, 2, 1)\n",
    "\n",
    "z_arr = []\n",
    "\n",
    "for x in x_arr:\n",
    "    for y in y_arr:\n",
    "        z_arr.append([iterate(z0, N, x, y)])"
   ]
  },
  {
   "cell_type": "code",
   "execution_count": null,
   "id": "1857b24e",
   "metadata": {},
   "outputs": [],
   "source": [
    "for i in range(len(z_arr)):\n",
    "    plt.plot(z_arr[i][0].real, z_arr[i][0].imag, 'r' if z**2)"
   ]
  },
  {
   "cell_type": "code",
   "execution_count": 7,
   "id": "b6ddb765",
   "metadata": {},
   "outputs": [
    {
     "data": {
      "text/plain": [
       "[(array([  0.   +0.j,  -2.   -2.j,  -2.   +6.j, -34.  -26.j, 478.+1766.j]),\n",
       "  array([   0.,    8.,   40., 1832.,    0.]))]"
      ]
     },
     "execution_count": 7,
     "metadata": {},
     "output_type": "execute_result"
    }
   ],
   "source": [
    "z_arr[0]"
   ]
  },
  {
   "cell_type": "code",
   "execution_count": null,
   "id": "53d62654",
   "metadata": {},
   "outputs": [],
   "source": [
    "iterate(z0, 2, 1, 1)"
   ]
  },
  {
   "cell_type": "code",
   "execution_count": null,
   "id": "f9bca475",
   "metadata": {},
   "outputs": [],
   "source": []
  }
 ],
 "metadata": {
  "kernelspec": {
   "display_name": "Python 3 (ipykernel)",
   "language": "python",
   "name": "python3"
  },
  "language_info": {
   "codemirror_mode": {
    "name": "ipython",
    "version": 3
   },
   "file_extension": ".py",
   "mimetype": "text/x-python",
   "name": "python",
   "nbconvert_exporter": "python",
   "pygments_lexer": "ipython3",
   "version": "3.7.4"
  }
 },
 "nbformat": 4,
 "nbformat_minor": 5
}
