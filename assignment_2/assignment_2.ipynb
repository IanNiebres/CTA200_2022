{
 "cells": [
  {
   "cell_type": "markdown",
   "id": "a3cb9d9d",
   "metadata": {},
   "source": [
    "# CTA200H Assignment 2 - Ian Niebres"
   ]
  },
  {
   "cell_type": "markdown",
   "id": "6585b986",
   "metadata": {},
   "source": [
    "#### Part 1\n",
    "Defining python functions for $f(x)=x^3 - x^2 - 1$ and $df/dx = 3x^2 - 2x$."
   ]
  },
  {
   "cell_type": "code",
   "execution_count": 2,
   "id": "8da66513",
   "metadata": {},
   "outputs": [],
   "source": [
    "def f(x):\n",
    "    \"\"\"Function for f(x).\"\"\"\n",
    "    return x**3 - x**2 - 1\n",
    "\n",
    "def df(x):\n",
    "    \"\"\"Function for df/dx.\"\"\"\n",
    "    return 3*x**2 - 2*x    "
   ]
  },
  {
   "cell_type": "markdown",
   "id": "668dc359",
   "metadata": {},
   "source": [
    "#### Part 2\n",
    "Defining a function that performs a Newton Iteration of $\\texttt{f}$ and its derivative $\\texttt{df}$."
   ]
  },
  {
   "cell_type": "code",
   "execution_count": 3,
   "id": "590f9379",
   "metadata": {},
   "outputs": [],
   "source": [
    "def newton(f, df, x0, epsilon=1e-6, max_iter=30):\n",
    "    \"\"\"\n",
    "    Function for performing a Newton Iteration.\n",
    "    \n",
    "    Parameters:\n",
    "    f  - A function. The function to find the root of.\n",
    "    df - A function. The derivative of the function.\n",
    "    x0 - An integer or float. An intital value (or guess) for the root.\n",
    "    epsilon - An integer or float. Threshold value to compare against.\n",
    "    max_iter - An integer. The maximum number of iterations to be tried.\n",
    "    \n",
    "    Returns:\n",
    "    None - if the root cannot be found within the maximum number of iterations.\n",
    "    x_i  - the first value of the root that falls within the threshold.\n",
    "    \"\"\"\n",
    "    i = 0\n",
    "    x_i = x0\n",
    "    while i < max_iter:\n",
    "        if abs(f(x_i)) < epsilon:\n",
    "            print('Found root in {} iterations. Root is x = {}.'.format(i, x_i))\n",
    "            return x_i\n",
    "        else:\n",
    "            x_n = x_i - (f(x_i)/df(x_i))\n",
    "            x_i = x_n\n",
    "            i += 1\n",
    "    print('Iteration failed.')\n",
    "    return None"
   ]
  },
  {
   "cell_type": "markdown",
   "id": "314de173",
   "metadata": {},
   "source": [
    "#### Part 3\n",
    "Trying out the $\\texttt{newton}$ function with $\\texttt{f}$ and its derivative $\\texttt{df}$ from Part 1, for different values of $\\texttt{x0}$ and $\\texttt{epsilon}$. Note, true (real) root of $f(x)$ is $x \\approx 1.4656$ (from WolframAlpha)."
   ]
  },
  {
   "cell_type": "markdown",
   "id": "8e7c348d",
   "metadata": {},
   "source": [
    "For $\\texttt{x0} =$ 10."
   ]
  },
  {
   "cell_type": "code",
   "execution_count": 4,
   "id": "8d5f4ce7",
   "metadata": {},
   "outputs": [
    {
     "name": "stdout",
     "output_type": "stream",
     "text": [
      "Found root in 9 iterations. Root is x = 1.465571232470246.\n"
     ]
    },
    {
     "data": {
      "text/plain": [
       "1.465571232470246"
      ]
     },
     "execution_count": 4,
     "metadata": {},
     "output_type": "execute_result"
    }
   ],
   "source": [
    "newton(f, df, x0=10, epsilon=1e-6, max_iter=30)"
   ]
  },
  {
   "cell_type": "markdown",
   "id": "638899a1",
   "metadata": {},
   "source": [
    "For $\\texttt{x0} =$ 10 and $\\texttt{epsilon} =$ 1e-8$."
   ]
  },
  {
   "cell_type": "code",
   "execution_count": 5,
   "id": "e18383ad",
   "metadata": {},
   "outputs": [
    {
     "name": "stdout",
     "output_type": "stream",
     "text": [
      "Found root in 9 iterations. Root is x = 1.465571232470246.\n"
     ]
    },
    {
     "data": {
      "text/plain": [
       "1.465571232470246"
      ]
     },
     "execution_count": 5,
     "metadata": {},
     "output_type": "execute_result"
    }
   ],
   "source": [
    "newton(f, df, x0=10, epsilon=1e-8, max_iter=30)"
   ]
  },
  {
   "cell_type": "markdown",
   "id": "f73848e8",
   "metadata": {},
   "source": [
    "For $\\texttt{x0} =$ 100."
   ]
  },
  {
   "cell_type": "code",
   "execution_count": 6,
   "id": "438d34eb",
   "metadata": {},
   "outputs": [
    {
     "name": "stdout",
     "output_type": "stream",
     "text": [
      "Found root in 15 iterations. Root is x = 1.4655712318887797.\n"
     ]
    },
    {
     "data": {
      "text/plain": [
       "1.4655712318887797"
      ]
     },
     "execution_count": 6,
     "metadata": {},
     "output_type": "execute_result"
    }
   ],
   "source": [
    "newton(f, df, x0=100, epsilon=1e-6, max_iter=30)"
   ]
  },
  {
   "cell_type": "markdown",
   "id": "b81afdea",
   "metadata": {},
   "source": [
    "For $\\texttt{x0} =$ 100 and $\\texttt{epsilon} =$ 1e-8."
   ]
  },
  {
   "cell_type": "code",
   "execution_count": 7,
   "id": "aae19956",
   "metadata": {},
   "outputs": [
    {
     "name": "stdout",
     "output_type": "stream",
     "text": [
      "Found root in 15 iterations. Root is x = 1.4655712318887797.\n"
     ]
    },
    {
     "data": {
      "text/plain": [
       "1.4655712318887797"
      ]
     },
     "execution_count": 7,
     "metadata": {},
     "output_type": "execute_result"
    }
   ],
   "source": [
    "newton(f, df, x0=100, epsilon=1e-8, max_iter=30)"
   ]
  },
  {
   "cell_type": "markdown",
   "id": "3c287c3e",
   "metadata": {},
   "source": [
    "For $\\texttt{x0} =$ -10."
   ]
  },
  {
   "cell_type": "code",
   "execution_count": 8,
   "id": "22233c90",
   "metadata": {},
   "outputs": [
    {
     "name": "stdout",
     "output_type": "stream",
     "text": [
      "Found root in 26 iterations. Root is x = 1.4655712376690906.\n"
     ]
    },
    {
     "data": {
      "text/plain": [
       "1.4655712376690906"
      ]
     },
     "execution_count": 8,
     "metadata": {},
     "output_type": "execute_result"
    }
   ],
   "source": [
    "newton(f, df, x0=-10, epsilon=1e-6, max_iter=30)"
   ]
  },
  {
   "cell_type": "markdown",
   "id": "82de43d2",
   "metadata": {},
   "source": [
    "For $\\texttt{x0} =$ -10 and $\\texttt{epsilon} =$ 1e-8."
   ]
  },
  {
   "cell_type": "code",
   "execution_count": 9,
   "id": "6880df46",
   "metadata": {},
   "outputs": [
    {
     "name": "stdout",
     "output_type": "stream",
     "text": [
      "Found root in 27 iterations. Root is x = 1.465571231876768.\n"
     ]
    },
    {
     "data": {
      "text/plain": [
       "1.465571231876768"
      ]
     },
     "execution_count": 9,
     "metadata": {},
     "output_type": "execute_result"
    }
   ],
   "source": [
    "newton(f, df, x0=-10, epsilon=1e-8, max_iter=30)"
   ]
  },
  {
   "cell_type": "markdown",
   "id": "137dfadb",
   "metadata": {},
   "source": [
    "As we can see from the above examples, as we choose initial values farther away from the true value of the root, the function needs to go through more iterations. This is because the initial value of the function is much larger or much smaller than 0 compared to the value of the function evaluated closer to the root, thus needing more iterations to reduce it to within the $\\texttt{epsilon}$ threshold. Changing $\\texttt{epsilon}$ to 1e-8 does not change the output much, finding an accepted root in roughly the same amount of iterations."
   ]
  }
 ],
 "metadata": {
  "kernelspec": {
   "display_name": "Python 3 (ipykernel)",
   "language": "python",
   "name": "python3"
  },
  "language_info": {
   "codemirror_mode": {
    "name": "ipython",
    "version": 3
   },
   "file_extension": ".py",
   "mimetype": "text/x-python",
   "name": "python",
   "nbconvert_exporter": "python",
   "pygments_lexer": "ipython3",
   "version": "3.10.2"
  }
 },
 "nbformat": 4,
 "nbformat_minor": 5
}
